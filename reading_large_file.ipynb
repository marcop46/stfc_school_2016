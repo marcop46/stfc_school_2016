{
 "cells": [
  {
   "cell_type": "code",
   "execution_count": 1,
   "metadata": {
    "collapsed": true
   },
   "outputs": [],
   "source": [
    "import numpy as np\n",
    "\n",
    "f=open('x-time.dat','r')\n",
    "# this time I want to read and use the header, after skipping the first 2 letters\n",
    "line = f.readline()\n",
    "line_skip = line[2:]\n",
    "\n",
    "columns_name = line_skip.split('|')\n",
    "\n",
    "# now I am reading the rest of the data\n",
    "rest_of_the_file = f.readlines()\n",
    "\n",
    "# closing the file. I am done reading\n",
    "f.close()"
   ]
  },
  {
   "cell_type": "code",
   "execution_count": 2,
   "metadata": {
    "collapsed": true
   },
   "outputs": [],
   "source": [
    "# need to initialize first..\n",
    "columns = []\n",
    "\n",
    "for i in range(len(columns_name)):\n",
    "    dum = []\n",
    "    for j in range(len(rest_of_the_file)):\n",
    "        dum.append(rest_of_the_file[j].split()[i])\n",
    "    columns.append(dum)"
   ]
  },
  {
   "cell_type": "code",
   "execution_count": 3,
   "metadata": {
    "collapsed": false
   },
   "outputs": [
    {
     "name": "stdout",
     "output_type": "stream",
     "text": [
      "1099 1099\n"
     ]
    }
   ],
   "source": [
    "print len(columns),len(columns_name)"
   ]
  },
  {
   "cell_type": "code",
   "execution_count": 22,
   "metadata": {
    "collapsed": false
   },
   "outputs": [
    {
     "name": "stdout",
     "output_type": "stream",
     "text": [
      "['8-PROT', '9-H   2', '10-HE  3']\n"
     ]
    }
   ],
   "source": [
    "# removing spaces in names with strip\n",
    "names = []\n",
    "# this is a useful command, \"strip\"\n",
    "for i in columns_name:\n",
    "    names.append(i.strip())\n",
    "    \n",
    "print names[7:10]"
   ]
  },
  {
   "cell_type": "code",
   "execution_count": 23,
   "metadata": {
    "collapsed": false
   },
   "outputs": [
    {
     "data": {
      "text/plain": [
       "<matplotlib.text.Text at 0xaff26c4c>"
      ]
     },
     "execution_count": 23,
     "metadata": {},
     "output_type": "execute_result"
    },
    {
     "data": {
      "image/png": "[encoded data removed]",
      "text/plain": [
       "<matplotlib.figure.Figure at 0xb02c2cec>"
      ]
     },
     "metadata": {},
     "output_type": "display_data"
    }
   ],
   "source": [
    "% matplotlib inline\n",
    "import matplotlib.pyplot as plt\n",
    "\n",
    "x=columns[names.index('time')]\n",
    "y=columns[names.index('8-PROT')]\n",
    "\n",
    "plt.loglog(x,y,'k-*',label='hydrogen')\n",
    "plt.legend(loc='upper right')\n",
    "\n",
    "plt.xlabel('time', fontsize=15.)\n",
    "plt.ylabel('X', fontsize=20.)"
   ]
  },
  {
   "cell_type": "code",
   "execution_count": null,
   "metadata": {
    "collapsed": true
   },
   "outputs": [],
   "source": []
  }
 ],
 "metadata": {
  "kernelspec": {
   "display_name": "Python 2",
   "language": "python",
   "name": "python2"
  },
  "language_info": {
   "codemirror_mode": {
    "name": "ipython",
    "version": 2
   },
   "file_extension": ".py",
   "mimetype": "text/x-python",
   "name": "python",
   "nbconvert_exporter": "python",
   "pygments_lexer": "ipython2",
   "version": "2.7.6"
  }
 },
 "nbformat": 4,
 "nbformat_minor": 0
}
